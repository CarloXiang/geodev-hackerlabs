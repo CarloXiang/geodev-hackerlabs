{
 "cells": [
  {
   "cell_type": "markdown",
   "metadata": {},
   "source": [
    "Test the Installation\n",
    "============\n",
    "\n",
    "See the README for installation requirements and instructions.\n",
    "\n",
    "The [ArcGIS API for Python](https://developers.arcgis.com/python) follows a pythonic modular design. Whether talking of ArcGIS Online or ArcGIS Enterprise on-premise or in the cloud, your GIS is represented with the argis.gis module.  The GIS class provides the information model from which you access all the tools to visualize, analyze, manage, and administer your GIS. \n",
    "\n",
    "Below we'll log into ArcGIS Online anonymously and access the module's map widget to investigate the default behavior. Run the cell to bring up the default map."
   ]
  },
  {
   "cell_type": "code",
   "execution_count": null,
   "metadata": {
    "collapsed": false
   },
   "outputs": [],
   "source": [
    "from arcgis.gis import GIS\n",
    "my_gis = GIS()\n",
    "map = my_gis.map()\n",
    "map"
   ]
  },
  {
   "cell_type": "markdown",
   "metadata": {},
   "source": [
    "#### Let's investigate some default properties when using the map widget this way:\n",
    "\n",
    "_Object dot notation accesses properties and methods. Type the object's name, followed by a dot, then the tab key to get a listing of all properties and methods on an object._"
   ]
  },
  {
   "cell_type": "code",
   "execution_count": null,
   "metadata": {
    "collapsed": false,
    "scrolled": true
   },
   "outputs": [],
   "source": [
    "print(\"Anonymous ArcGIS Online login:\")\n",
    "print(\"{:-<50}\".format(''))\n",
    "print(\"\\tDefault Basemap: {}\".format(map.basemap))\n",
    "print(\"\\tMap Center: {}\".format(map.center))\n",
    "print(\"\\tMap Zoom Level: {}\".format(map.zoom))\n",
    "#print(\"\\tMap Extent: {}\".format(map.extent))"
   ]
  },
  {
   "cell_type": "markdown",
   "metadata": {},
   "source": [
    "#### Let's investigate default properties when using the map widget logged into a Portal instance:"
   ]
  },
  {
   "cell_type": "code",
   "execution_count": null,
   "metadata": {
    "collapsed": false
   },
   "outputs": [],
   "source": [
    "import getpass\n",
    "password = getpass.getpass(\"Enter password: \")\n",
    "p_gis = GIS(\"https://hadrian.esri.com/portal/home\", \"admin\", password, verify_cert=False)\n",
    "p_map = p_gis.map(\"West Yellowstone, MT\", 8)\n",
    "print(\"Successfully logged in as: \" + p_gis.properties.user.username)\n",
    "p_map"
   ]
  },
  {
   "cell_type": "code",
   "execution_count": null,
   "metadata": {
    "collapsed": false
   },
   "outputs": [],
   "source": [
    "print(\"ArcGIS Portal Instance login:\")\n",
    "print(\"{:-<50}\".format(''))\n",
    "print(\"\\tDefault Basemap: {}\".format(p_map.basemap))\n",
    "print(\"\\tMap Center: {}\".format(p_map.center))\n",
    "print(\"\\tMap Zoom Level: {}\".format(p_map.zoom))\n",
    "#print(\"\\tMap Extent: {}\".format(map.extent))"
   ]
  },
  {
   "cell_type": "code",
   "execution_count": 8,
   "metadata": {
    "collapsed": false
   },
   "outputs": [],
   "source": [
    "p_map.zoom = 12\n",
    "p_map.height = '175px'"
   ]
  }
 ],
 "metadata": {
  "anaconda-cloud": {},
  "kernelspec": {
   "display_name": "Python [default]",
   "language": "python",
   "name": "python3"
  },
  "language_info": {
   "codemirror_mode": {
    "name": "ipython",
    "version": 3
   },
   "file_extension": ".py",
   "mimetype": "text/x-python",
   "name": "python",
   "nbconvert_exporter": "python",
   "pygments_lexer": "ipython3",
   "version": "3.5.3"
  }
 },
 "nbformat": 4,
 "nbformat_minor": 1
}
